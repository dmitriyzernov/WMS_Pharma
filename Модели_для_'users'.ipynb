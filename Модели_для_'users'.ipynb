{
  "cells": [
    {
      "cell_type": "markdown",
      "metadata": {
        "id": "view-in-github",
        "colab_type": "text"
      },
      "source": [
        "<a href=\"https://colab.research.google.com/github/dmitriyzernov/WMS_Pharma/blob/main/%D0%9C%D0%BE%D0%B4%D0%B5%D0%BB%D0%B8_%D0%B4%D0%BB%D1%8F_'users'.ipynb\" target=\"_parent\"><img src=\"https://colab.research.google.com/assets/colab-badge.svg\" alt=\"Open In Colab\"/></a>"
      ]
    },
    {
      "cell_type": "code",
      "source": [
        "from django.contrib.auth.models import AbstractUser\n",
        "from django.db import models\n",
        "\n",
        "class CustomUser(AbstractUser):\n",
        "\n",
        "    class Role(models.TextChoices):\n",
        "        ADMIN = 'ADMIN', 'Администратор'\n",
        "        SELLER = 'SELLER', 'Продавец'\n",
        "\n",
        "    # Добавляем поле Роль, как в дизайне (стр. 15)\n",
        "    role = models.CharField(\n",
        "        max_length=10,\n",
        "        choices=Role.choices,\n",
        "        default=Role.SELLER,\n",
        "        verbose_name=\"Роль\"\n",
        "    )\n",
        "\n",
        "    # E-mail (логин) уже есть в AbstractUser\n",
        "    # 'Имя' (first_name, last_name) также уже есть\n",
        "\n",
        "    def __str__(self):\n",
        "        return self.username"
      ],
      "outputs": [],
      "execution_count": null,
      "metadata": {
        "id": "J37FoJvq8WK9"
      }
    }
  ],
  "metadata": {
    "colab": {
      "provenance": [],
      "include_colab_link": true
    },
    "kernelspec": {
      "display_name": "Python 3",
      "name": "python3"
    }
  },
  "nbformat": 4,
  "nbformat_minor": 0
}